{
  "nbformat": 4,
  "nbformat_minor": 0,
  "metadata": {
    "colab": {
      "provenance": [],
      "authorship_tag": "ABX9TyNuZU7gbKuV/MQRDn345lMf",
      "include_colab_link": true
    },
    "kernelspec": {
      "name": "python3",
      "display_name": "Python 3"
    },
    "language_info": {
      "name": "python"
    }
  },
  "cells": [
    {
      "cell_type": "markdown",
      "metadata": {
        "id": "view-in-github",
        "colab_type": "text"
      },
      "source": [
        "<a href=\"https://colab.research.google.com/github/Debora-Ibarra/Repositorio_EDP2/blob/main/Gauss_Siedel.ipynb\" target=\"_parent\"><img src=\"https://colab.research.google.com/assets/colab-badge.svg\" alt=\"Open In Colab\"/></a>"
      ]
    },
    {
      "cell_type": "markdown",
      "source": [
        "# Problema de Dirichlet\n",
        "Queremos resolver la siguiente ecuación.\n",
        "$$\\frac{\\partial^2 u}{\\partial x^2} +\\frac{\\partial^2 u}{\\partial y^2} = 0$$\n",
        "sujeta a las condiciones:\n",
        "$$u(0,y)=0,u(2,y)=y(2,y), \\;\\;\\; 0<y<2$$\n",
        "\n",
        "$$\n",
        "u(x,0) = 0, \\quad\n",
        "u(x,2) =\n",
        "\\begin{cases}\n",
        "x & \\text{si } 0 < x < 1, \\\\\n",
        "2 - x & \\text{si } 1 \\leq x < 2\n",
        "\\end{cases}\n",
        "$$\n"
      ],
      "metadata": {
        "id": "P7c7F15DgUuY"
      }
    },
    {
      "cell_type": "markdown",
      "source": [
        "Con malla $$h=\\frac{2}{3}$$\n"
      ],
      "metadata": {
        "id": "YjWGQnFvgazu"
      }
    },
    {
      "cell_type": "code",
      "execution_count": 4,
      "metadata": {
        "colab": {
          "base_uri": "https://localhost:8080/"
        },
        "id": "5MT0kwOseHUB",
        "outputId": "bf0ef551-d880-430d-8beb-563b18ad5e88"
      },
      "outputs": [
        {
          "output_type": "stream",
          "name": "stdout",
          "text": [
            "Iter.\tX_1\tX_2\tX_3\tX_4\t\tError\n",
            "--------------------------------------------------\n",
            "1    \t0.000000\t0.166667\t0.222222\t0.486111\t1.000000e+00\n",
            "2    \t0.097222\t0.312500\t0.368056\t0.559028\t3.213006e-01\n",
            "3    \t0.170139\t0.348958\t0.404514\t0.577257\t1.132639e-01\n",
            "4    \t0.188368\t0.358073\t0.413628\t0.581814\t2.776989e-02\n",
            "5    \t0.192925\t0.360352\t0.415907\t0.582954\t6.908734e-03\n",
            "6    \t0.194065\t0.360921\t0.416477\t0.583238\t1.725081e-03\n",
            "7    \t0.194350\t0.361064\t0.416619\t0.583310\t4.311390e-04\n",
            "8    \t0.194421\t0.361099\t0.416655\t0.583327\t1.077765e-04\n",
            "9    \t0.194439\t0.361108\t0.416664\t0.583332\t2.694362e-05\n",
            "10   \t0.194443\t0.361110\t0.416666\t0.583333\t6.735874e-06\n",
            "11   \t0.194444\t0.361111\t0.416666\t0.583333\t1.683966e-06\n",
            "12   \t0.194444\t0.361111\t0.416667\t0.583333\t4.209915e-07\n",
            "\n",
            "SALIDA (x1, ..., xn): (convergencia alcanzada.)\n",
            "PARE.\n",
            "\n",
            "Solución final (Aproximada):\n",
            "[0.19444435 0.36111106 0.41666662 0.58333331]\n",
            "Iteraciones realizadas: 12\n"
          ]
        }
      ],
      "source": [
        "import numpy as np\n",
        "\n",
        "def gauss_seidel_method(A, b, x_0, tol, max_iter): #Definimos la matriz,el vector, la aproximacion incial\n",
        "#la tolerancia y el maximo de iteraciones\n",
        "\n",
        "    n = len(b)\n",
        "    x = x_0.copy()  # x = x^(k)\n",
        "\n",
        "    # tabla\n",
        "    header = \"Iter.\"\n",
        "    for i in range(n):\n",
        "        header += f\"\\tX_{i+1}\"\n",
        "    header += \"\\t\\tError\"\n",
        "    print(header)\n",
        "    print(\"-\" * (10 + 10 * n))\n",
        "\n",
        "    for k in range(1, max_iter + 1):  # Paso 1\n",
        "        x_old = x.copy()  # Guardamos para checar el error\n",
        "\n",
        "        for i in range(n):  # Paso 3: Para i = 1, ..., n\n",
        "\n",
        "            sum_val_new = np.dot(A[i, :i], x[:i])\n",
        "\n",
        "            sum_val_old = np.dot(A[i, i+1:], x_old[i+1:])\n",
        "\n",
        "            # Aplicando Gauss-Seidel (P3 )\n",
        "            x[i] = (b[i] - sum_val_new - sum_val_old) / A[i, i]\n",
        "\n",
        "        # Error y convergencia (P4)\n",
        "        error = np.linalg.norm(x - x_old) / np.linalg.norm(x)\n",
        "\n",
        "        # resultados\n",
        "        row = f\"{k:<5}\"\n",
        "        for val in x:\n",
        "            row += f\"\\t{val:.6f}\"\n",
        "        row += f\"\\t{error:.6e}\"\n",
        "        print(row)\n",
        "\n",
        "        if error < tol:\n",
        "            print(\"\\nSALIDA (x1, ..., xn): (convergencia alcanzada.)\")\n",
        "            print(\"PARE.\")\n",
        "            return x, k  # Salido (P4)\n",
        "\n",
        "    # Si se hacen más iteaciones de las buscadas\n",
        "    print(\"\\nSALIDA ('Número máximo de interacciones excedido')\")\n",
        "    print(\"PARE.\")\n",
        "    return x, max_iter  # Salida (p7)\n",
        "\n",
        "# Usamos el ejemplo de clase\n",
        "if __name__ == \"__main__\":\n",
        "    A = np.array([[4., -1., -1., 0.],\n",
        "                  [-1., 4., 0., -1.],\n",
        "                  [-1., 0., 4., -1.],\n",
        "                  [0., -1., -1., 4.]])\n",
        "\n",
        "    b = np.array([0., 2/3., 8/9., 14/9.])\n",
        "\n",
        "    x_0 = np.zeros(4)\n",
        "    tol = 1e-6\n",
        "    max_iter = 25\n",
        "\n",
        "    solution, iterations = gauss_seidel_method(A, b, x_0, tol, max_iter)\n",
        "\n",
        "    print(\"\\nSolución final (Aproximada):\")\n",
        "    print(solution)\n",
        "    print(f\"Iteraciones realizadas: {iterations}\")"
      ]
    }
  ]
}