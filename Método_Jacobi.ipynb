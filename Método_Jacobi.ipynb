{
  "nbformat": 4,
  "nbformat_minor": 0,
  "metadata": {
    "colab": {
      "provenance": [],
      "authorship_tag": "ABX9TyPhj3zBm3qd4fZy+0pIXlxy",
      "include_colab_link": true
    },
    "kernelspec": {
      "name": "python3",
      "display_name": "Python 3"
    },
    "language_info": {
      "name": "python"
    }
  },
  "cells": [
    {
      "cell_type": "markdown",
      "metadata": {
        "id": "view-in-github",
        "colab_type": "text"
      },
      "source": [
        "<a href=\"https://colab.research.google.com/github/Debora-Ibarra/Repositorio_EDP2/blob/main/M%C3%A9todo_Jacobi.ipynb\" target=\"_parent\"><img src=\"https://colab.research.google.com/assets/colab-badge.svg\" alt=\"Open In Colab\"/></a>"
      ]
    },
    {
      "cell_type": "markdown",
      "source": [
        "# Problema de Dirichlet\n",
        "Queremos resolver la siguiente ecuación.\n",
        "$$\\frac{\\partial^2 u}{\\partial x^2} +\\frac{\\partial^2 u}{\\partial y^2} = 0$$\n",
        "sujeta a las condiciones:\n",
        "$$u(0,y)=0,u(2,y)=y(2,y), \\;\\;\\; 0<y<2$$\n",
        "\n",
        "$$\n",
        "u(x,0) = 0, \\quad\n",
        "u(x,2) =\n",
        "\\begin{cases}\n",
        "x & \\text{si } 0 < x < 1, \\\\\n",
        "2 - x & \\text{si } 1 \\leq x < 2\n",
        "\\end{cases}\n",
        "$$\n",
        "\n"
      ],
      "metadata": {
        "id": "RTyYZp7Ua3m2"
      }
    },
    {
      "cell_type": "markdown",
      "source": [
        "Con malla $$h=\\frac{2}{3}$$"
      ],
      "metadata": {
        "id": "gG2aw6c6GZFw"
      }
    },
    {
      "cell_type": "code",
      "execution_count": 1,
      "metadata": {
        "id": "x832Zm7q1Slh",
        "colab": {
          "base_uri": "https://localhost:8080/"
        },
        "outputId": "2e4eb4a8-eae0-454b-c4fd-07eaf4caafef"
      },
      "outputs": [
        {
          "output_type": "stream",
          "name": "stdout",
          "text": [
            "Iter.\tX_1\tX_2\tX_3\tX_4\t\tError\n",
            "--------------------------------------------------\n",
            "1    \t0.000000\t0.166667\t0.222222\t0.388889\t1.000000e+00\n",
            "2    \t0.097222\t0.263889\t0.319444\t0.486111\t3.009535e-01\n",
            "3    \t0.145833\t0.312500\t0.368056\t0.534722\t1.322639e-01\n",
            "4    \t0.170139\t0.336806\t0.392361\t0.559028\t6.229918e-02\n",
            "5    \t0.182292\t0.348958\t0.404514\t0.571181\t3.026675e-02\n",
            "6    \t0.188368\t0.355035\t0.410590\t0.577257\t1.492130e-02\n",
            "7    \t0.191406\t0.358073\t0.413628\t0.580295\t7.408669e-03\n",
            "8    \t0.192925\t0.359592\t0.415148\t0.581814\t3.691465e-03\n",
            "9    \t0.193685\t0.360352\t0.415907\t0.582574\t1.842531e-03\n",
            "10   \t0.194065\t0.360731\t0.416287\t0.582954\t9.204670e-04\n",
            "11   \t0.194255\t0.360921\t0.416477\t0.583143\t4.600341e-04\n",
            "12   \t0.194350\t0.361016\t0.416572\t0.583238\t2.299673e-04\n",
            "13   \t0.194397\t0.361064\t0.416619\t0.583286\t1.149712e-04\n",
            "14   \t0.194421\t0.361087\t0.416643\t0.583310\t5.748248e-05\n",
            "15   \t0.194433\t0.361099\t0.416655\t0.583321\t2.874046e-05\n",
            "16   \t0.194439\t0.361105\t0.416661\t0.583327\t1.437004e-05\n",
            "17   \t0.194441\t0.361108\t0.416664\t0.583330\t7.184969e-06\n",
            "18   \t0.194443\t0.361110\t0.416665\t0.583332\t3.592472e-06\n",
            "19   \t0.194444\t0.361110\t0.416666\t0.583333\t1.796233e-06\n",
            "20   \t0.194444\t0.361111\t0.416666\t0.583333\t8.981158e-07\n",
            "Convergencia alcanzada\n",
            "Solución final:\n",
            "[0.19444407 0.36111074 0.4166663  0.58333296]\n",
            "Iteraciones: 20\n"
          ]
        }
      ],
      "source": [
        "import numpy as np\n",
        "\n",
        "def jacobi(A, b, x_0, tol, max_iter): #definimos la función para el metodo de Jacobi\n",
        "#A, la matriz, b= el vector de solucion, x_, vector inicial, tol, la tolerancia y max_iter, el maximo de iteraciones\n",
        "\n",
        "    n = len(b)\n",
        "    x = x_0.copy()\n",
        "    x_new = np.zeros(n)\n",
        "\n",
        "   #Imprimimos el encabezado de la tabla\n",
        "    header = \"Iter.\"\n",
        "    for i in range(n):\n",
        "        header += f\"\\tX_{i+1}\"\n",
        "    header += \"\\t\\tError\"\n",
        "    print(header)\n",
        "    print(\"-\" * (10 + 10 * n))\n",
        "\n",
        "    for k in range(1, max_iter + 1):\n",
        "        for i in range(n):\n",
        "            sum_val = np.dot(A[i, :i], x[:i]) + np.dot(A[i, i+1:], x[i+1:])\n",
        "            x_new[i] = (b[i] - sum_val) / A[i, i]\n",
        "\n",
        "        error = np.linalg.norm(x_new - x) / np.linalg.norm(x_new)\n",
        "\n",
        "       #resultados de las iteraciones\n",
        "        row = f\"{k:<5}\"\n",
        "        for val in x_new:\n",
        "            row += f\"\\t{val:.6f}\"\n",
        "        row += f\"\\t{error:.6e}\"\n",
        "        print(row)\n",
        "\n",
        "        if error < tol:\n",
        "            print(\"Convergencia alcanzada\")\n",
        "            return x_new, k\n",
        "\n",
        "        x = x_new.copy()\n",
        "\n",
        "    print(\"Maximo número de iteraciones alcanzada\")\n",
        "    return x, max_iter\n",
        "\n",
        "# Ejemplo de la clase\n",
        "if __name__ == \"__main__\":\n",
        "    A = np.array([[4., -1., -1., 0.],\n",
        "                  [-1., 4., 0., -1.],\n",
        "                  [-1., 0., 4., -1.],\n",
        "                  [0., -1., -1., 4.]])\n",
        "\n",
        "    b = np.array([0., 2/3., 8/9., 14/9.])\n",
        "\n",
        "    x_0 = np.zeros(4)\n",
        "    tol = 1e-6\n",
        "    max_iter = 25\n",
        "\n",
        "    solution, iterations = jacobi(A, b, x_0, tol, max_iter)\n",
        "\n",
        "    print(\"Solución final:\")\n",
        "    print(solution)\n",
        "    print(f\"Iteraciones: {iterations}\")"
      ]
    }
  ]
}